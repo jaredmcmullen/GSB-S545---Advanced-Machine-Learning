{
 "cells": [
  {
   "cell_type": "markdown",
   "id": "60e44c52",
   "metadata": {},
   "source": [
    "# Lab 4 - Boosting"
   ]
  },
  {
   "cell_type": "markdown",
   "id": "6d9410bd",
   "metadata": {},
   "source": [
    "## Begin Lab - Import Heart Disease Data"
   ]
  },
  {
   "cell_type": "code",
   "execution_count": 2,
   "id": "122bce9b",
   "metadata": {},
   "outputs": [
    {
     "data": {
      "text/plain": [
       "count     319795\n",
       "unique         2\n",
       "top           No\n",
       "freq      292422\n",
       "Name: HeartDisease, dtype: object"
      ]
     },
     "execution_count": 2,
     "metadata": {},
     "output_type": "execute_result"
    }
   ],
   "source": [
    "import pandas as pd \n",
    "\n",
    "\n",
    "df = pd.read_csv(\"/Users/jaredmcmullen/Desktop/GSB-S545/data/heart_2020_cleaned.csv\")\n",
    "df['HeartDisease'].describe()"
   ]
  },
  {
   "cell_type": "markdown",
   "id": "67d48b99",
   "metadata": {},
   "source": [
    "## Balance the dataset - subset half group with heart disease / half without heart disease"
   ]
  },
  {
   "cell_type": "code",
   "execution_count": 3,
   "id": "65f65c43",
   "metadata": {},
   "outputs": [
    {
     "data": {
      "text/plain": [
       "count     54746\n",
       "unique        2\n",
       "top         Yes\n",
       "freq      27373\n",
       "Name: HeartDisease, dtype: object"
      ]
     },
     "execution_count": 3,
     "metadata": {},
     "output_type": "execute_result"
    }
   ],
   "source": [
    "def downsample(df:pd.DataFrame, label_col_name:str) -> pd.DataFrame:\n",
    "    # find the number of observations in the smallest group\n",
    "    nmin = df[label_col_name].value_counts().min()\n",
    "    return (df\n",
    "            # split the dataframe per group\n",
    "            .groupby(label_col_name)\n",
    "            # sample nmin observations from each group\n",
    "            .apply(lambda x: x.sample(nmin))\n",
    "            # recombine the dataframes\n",
    "            .reset_index(drop=True)\n",
    "            )\n",
    "\n",
    "balanced = downsample(df, \"HeartDisease\")\n",
    "balanced = balanced.dropna()\n",
    "balanced['HeartDisease'].describe()"
   ]
  },
  {
   "cell_type": "markdown",
   "id": "405b4327",
   "metadata": {},
   "source": [
    "## Get X/Y variables in format ingestible by models below"
   ]
  },
  {
   "cell_type": "code",
   "execution_count": 4,
   "id": "7e9d0536",
   "metadata": {},
   "outputs": [],
   "source": [
    "import random\n",
    "from sklearn.preprocessing import LabelEncoder\n",
    "\n",
    "#Set the seed for analysis\n",
    "random.seed(10)\n",
    "\n",
    "#Use label encoder to get in the model ingesting format\n",
    "for label in balanced.columns:\n",
    "    balanced[label] = LabelEncoder().fit(balanced[label]).transform(balanced[label])\n",
    "\n",
    "#Set X and Y values for the models\n",
    "Y = balanced['HeartDisease']\n",
    "X = balanced.drop(['HeartDisease'],axis=1)"
   ]
  },
  {
   "cell_type": "markdown",
   "id": "5dce75fa",
   "metadata": {},
   "source": [
    "## Import packages and get the first approach stacking model"
   ]
  },
  {
   "cell_type": "code",
   "execution_count": 69,
   "id": "dddd2781",
   "metadata": {},
   "outputs": [],
   "source": [
    "#Select all the models you want to test\n",
    "from numpy import mean\n",
    "from numpy import std\n",
    "from sklearn.datasets import make_classification\n",
    "from sklearn.model_selection import cross_val_score\n",
    "from sklearn.model_selection import RepeatedStratifiedKFold\n",
    "from sklearn.linear_model import LogisticRegression\n",
    "from sklearn.neighbors import KNeighborsClassifier\n",
    "from sklearn.tree import DecisionTreeClassifier\n",
    "from sklearn.svm import SVC\n",
    "from sklearn.naive_bayes import GaussianNB\n",
    "from sklearn.ensemble import StackingClassifier\n",
    "from sklearn.ensemble import RandomForestClassifier\n",
    "from sklearn.ensemble import AdaBoostClassifier\n",
    "from xgboost import XGBClassifier"
   ]
  },
  {
   "cell_type": "markdown",
   "id": "2697e7e4",
   "metadata": {},
   "source": [
    "## Set up model evaluation - performs CROSS VALIDATION"
   ]
  },
  {
   "cell_type": "code",
   "execution_count": 70,
   "id": "52076620",
   "metadata": {},
   "outputs": [],
   "source": [
    "from sklearn.model_selection import RepeatedStratifiedKFold\n",
    "from sklearn.model_selection import cross_val_score\n",
    "from numpy import mean\n",
    "from numpy import std\n",
    "from numpy import arange\n",
    "\n",
    "#Create a function to iterate through different models\n",
    "def evaluate_model(model, X, y):\n",
    "    cv = RepeatedStratifiedKFold(n_splits=10, n_repeats=3, random_state = 1)\n",
    "    scores = cross_val_score(model, X, y, scoring='accuracy', cv=cv, n_jobs=-1) #error_score='raise')\n",
    "    return scores"
   ]
  },
  {
   "cell_type": "markdown",
   "id": "0795807f",
   "metadata": {},
   "source": [
    "## Set up initial models for testing\n"
   ]
  },
  {
   "cell_type": "code",
   "execution_count": 59,
   "id": "814beea2",
   "metadata": {},
   "outputs": [
    {
     "name": "stdout",
     "output_type": "stream",
     "text": [
      ">lr 0.735 (0.006)\n",
      ">rf 0.744 (0.005)\n",
      ">lr_boost 0.750 (0.004)\n",
      ">lr_xgboost 0.761 (0.004)\n",
      ">cart_xgboost 0.761 (0.004)\n",
      ">rf_xgboost 0.761 (0.004)\n"
     ]
    }
   ],
   "source": [
    "#Define the models that are going to be iterated through later on \n",
    "def get_models():\n",
    "    models = dict()\n",
    "    models['lr'] = LogisticRegression()\n",
    "    models['rf'] = RandomForestClassifier()\n",
    "    models['lr_boost'] = AdaBoostClassifier(base_estimator = LogisticRegression())  \n",
    "    models['lr_xgboost'] = XGBClassifier(base_estimator = LogisticRegression())\n",
    "    models['cart_xgboost'] = XGBClassifier(base_estimator = DecisionTreeClassifier())\n",
    "    models['rf_xgboost'] = XGBClassifier(base_estimator = RandomForestClassifier())\n",
    "    #models['stacking'] = get_stacking()\n",
    "    return models\n",
    "\n",
    "models = get_models()\n",
    "\n",
    "#Iterate through the models and append the scores\n",
    "from matplotlib import pyplot\n",
    "results, names = list(), list()\n",
    "for name, model in models.items():\n",
    "    scores = evaluate_model(model, X, Y)\n",
    "    results.append(scores)\n",
    "    names.append(name)\n",
    "    print('>%s %.3f (%.3f)' % (name, mean(scores), std(scores)))\n",
    "    \n"
   ]
  },
  {
   "cell_type": "markdown",
   "id": "45b2fd2e",
   "metadata": {},
   "source": [
    "## From these results we can see that XGBoosting works the best with this dataset. We will now try and see if stacking the high performing models will yield a different accuracy. \n"
   ]
  },
  {
   "cell_type": "code",
   "execution_count": 74,
   "id": "8894eb5b",
   "metadata": {},
   "outputs": [
    {
     "name": "stdout",
     "output_type": "stream",
     "text": [
      ">stacking 0.761 (0.004)\n"
     ]
    }
   ],
   "source": [
    "#Go through the stacking model - we are seperating this so RAM can be utilized when running the notebook\n",
    " \n",
    "    \n",
    "#Define the stacking model used later on\n",
    "def get_stacking():\n",
    "    # define the base models\n",
    "    level0 = list()\n",
    "    level0.append(('lr_XGB', XGBClassifier(base_estimator = LogisticRegression())))\n",
    "    level0.append(('rf_XGB', XGBClassifier(base_estimator = DecisionTreeClassifier())))\n",
    "    # define meta learner model\n",
    "    level1 = LogisticRegression()\n",
    "    # define the stacking ensemble\n",
    "    model = StackingClassifier(estimators=level0, final_estimator=level1, cv=5)\n",
    "    return model\n",
    "\n",
    "\n",
    "def get_models():\n",
    "    models = dict()\n",
    "    models['stacking'] = get_stacking()\n",
    "    return models\n",
    "\n",
    "models = get_models()\n",
    "\n",
    "\n",
    "#Iterate through the models and append the scores\n",
    "from matplotlib import pyplot\n",
    "results, names = list(), list()\n",
    "for name, model in models.items():\n",
    "    scores = evaluate_model(model, X, Y)\n",
    "    results.append(scores)\n",
    "    names.append(name)\n",
    "    print('>%s %.3f (%.3f)' % (name, mean(scores), std(scores)))"
   ]
  },
  {
   "cell_type": "markdown",
   "id": "89ab1908",
   "metadata": {},
   "source": [
    "## We can tell from this that stacking isn't necessarily the best option for this dataset - so we will continue tuning the XGB with base models"
   ]
  },
  {
   "cell_type": "code",
   "execution_count": 75,
   "id": "9f78a56d",
   "metadata": {},
   "outputs": [
    {
     "name": "stdout",
     "output_type": "stream",
     "text": [
      ">1 0.763 (0.004)\n",
      ">2 0.766 (0.004)\n",
      ">3 0.766 (0.004)\n",
      ">4 0.765 (0.004)\n",
      ">10 0.764 (0.005)\n",
      ">100 0.760 (0.003)\n",
      ">500 0.748 (0.005)\n",
      ">1000 0.738 (0.006)\n"
     ]
    }
   ],
   "source": [
    "#Define the models that are going to be iterated through later on \n",
    "def get_models():\n",
    "    models = dict()\n",
    "    # define number of trees to consider\n",
    "    learningR = [1, 2, 3, 4]\n",
    "    for b in learningR:\n",
    "        models[str(b)] = XGBClassifier(base_estimator = LogisticRegression(),max_depth=b)\n",
    "\n",
    "        #Explore number of trees\n",
    "    n_trees = [10, 100, 500, 1000]\n",
    "    for n in n_trees:\n",
    "        models[str(n)] = XGBClassifier(base_estimator = LogisticRegression(), n_estimators=n, algorithm='SAMME')\n",
    "\n",
    "    return models\n",
    "\n",
    "models = get_models()\n",
    "\n",
    "#Iterate through the models and append the scores\n",
    "from matplotlib import pyplot\n",
    "results, names = list(), list()\n",
    "for name, model in models.items():\n",
    "    scores = evaluate_model(model, X, Y)\n",
    "    results.append(scores)\n",
    "    names.append(name)\n",
    "    print('>%s %.3f (%.3f)' % (name, mean(scores), std(scores)))"
   ]
  },
  {
   "cell_type": "markdown",
   "id": "b1cb0bd5",
   "metadata": {},
   "source": [
    "## We will now continue with the learning rate being 3 and continue to iterate"
   ]
  },
  {
   "cell_type": "code",
   "execution_count": 81,
   "id": "e3546ae0",
   "metadata": {},
   "outputs": [
    {
     "name": "stdout",
     "output_type": "stream",
     "text": [
      ">0.03 0.762 (0.004)\n",
      ">0.05 0.764 (0.004)\n",
      ">0.1 0.766 (0.004)\n",
      ">0.3 0.766 (0.004)\n",
      ">0.5 0.764 (0.004)\n",
      ">0.7 0.762 (0.004)\n",
      ">0.9 0.760 (0.004)\n",
      ">1 0.758 (0.005)\n"
     ]
    }
   ],
   "source": [
    "#Define the models that are going to be iterated through later on \n",
    "def get_models():\n",
    "    models = dict()\n",
    "    learningR = [.03, .05, .1, .3, .5, .7, .9, 1]\n",
    "    for b in learningR:\n",
    "        models[str(b)] = XGBClassifier(base_estimator = LogisticRegression(), max_depth = 3, eta = b)  \n",
    "    return models\n",
    "\n",
    "models = get_models()\n",
    "\n",
    "#Iterate through the models and append the scores\n",
    "from matplotlib import pyplot\n",
    "results, names = list(), list()\n",
    "for name, model in models.items():\n",
    "    scores = evaluate_model(model, X, Y)\n",
    "    results.append(scores)\n",
    "    names.append(name)\n",
    "    print('>%s %.3f (%.3f)' % (name, mean(scores), std(scores)))"
   ]
  },
  {
   "cell_type": "markdown",
   "id": "8f66ca18",
   "metadata": {},
   "source": [
    "## Get the final model "
   ]
  },
  {
   "cell_type": "code",
   "execution_count": 92,
   "id": "0562d61a",
   "metadata": {},
   "outputs": [
    {
     "name": "stdout",
     "output_type": "stream",
     "text": [
      ">lr_XGB 0.766 (0.004)\n"
     ]
    }
   ],
   "source": [
    "def get_models():\n",
    "    models = dict()\n",
    "    models['lr_XGB'] = XGBClassifier(base_estimator = LogisticRegression(), max_depth = 3, eta = .09)\n",
    "    return models\n",
    "models = get_models()\n",
    "\n",
    "#Iterate through the models and append the scores\n",
    "from matplotlib import pyplot\n",
    "results, names = list(), list()\n",
    "for name, model in models.items():\n",
    "    scores = evaluate_model(model, X, Y)\n",
    "    results.append(scores)\n",
    "    names.append(name)\n",
    "    print('>%s %.3f (%.3f)' % (name, mean(scores), std(scores)))"
   ]
  },
  {
   "cell_type": "markdown",
   "id": "2847c3a0",
   "metadata": {},
   "source": [
    "## Get the variable importance"
   ]
  },
  {
   "cell_type": "code",
   "execution_count": 102,
   "id": "c36fe4bc",
   "metadata": {},
   "outputs": [
    {
     "name": "stdout",
     "output_type": "stream",
     "text": [
      "[22:09:10] WARNING: /Users/runner/work/xgboost/xgboost/python-package/build/temp.macosx-10.9-x86_64-3.7/xgboost/src/learner.cc:627: \n",
      "Parameters: { \"base_estimator\" } might not be used.\n",
      "\n",
      "  This could be a false alarm, with some parameters getting used by language bindings but\n",
      "  then being mistakenly passed down to XGBoost core, or some parameter actually being used\n",
      "  but getting flagged wrongly here. Please open an issue if you find any such cases.\n",
      "\n",
      "\n"
     ]
    },
    {
     "data": {
      "text/plain": [
       "<BarContainer object of 17 artists>"
      ]
     },
     "execution_count": 102,
     "metadata": {},
     "output_type": "execute_result"
    },
    {
     "data": {
      "image/png": "[encoded data removed]",
      "text/plain": [
       "<Figure size 432x288 with 1 Axes>"
      ]
     },
     "metadata": {
      "needs_background": "light"
     },
     "output_type": "display_data"
    }
   ],
   "source": [
    "from sklearn.model_selection import train_test_split \n",
    "from sklearn.metrics import mean_squared_error\n",
    "\n",
    "#Split up the data \n",
    "X_train, X_test, Y_train, Y_test = train_test_split(X, Y, test_size=.20, random_state=0)\n",
    "\n",
    "model = XGBClassifier(base_estimator = LogisticRegression(), max_depth = 3, eta = .09).fit(X_train,Y_train)\n",
    "\n",
    "Y_pred = model.predict(X_test)\n",
    "\n",
    "scores = model.feature_importances_\n",
    "data_columns = balanced.columns\n",
    "data_columns = data_columns[1:18]\n",
    "plt.barh(data_columns, scores)"
   ]
  },
  {
   "cell_type": "markdown",
   "id": "c532cc55",
   "metadata": {},
   "source": [
    "In conclusion, the best we could make the model was ~ 77% accurate. This was done with a XGBoosted LR model. The most important features were age, diffwalking, and diabetic or not. "
   ]
  }
 ],
 "metadata": {
  "kernelspec": {
   "display_name": "Python 3",
   "language": "python",
   "name": "python3"
  },
  "language_info": {
   "codemirror_mode": {
    "name": "ipython",
    "version": 3
   },
   "file_extension": ".py",
   "mimetype": "text/x-python",
   "name": "python",
   "nbconvert_exporter": "python",
   "pygments_lexer": "ipython3",
   "version": "3.8.8"
  }
 },
 "nbformat": 4,
 "nbformat_minor": 5
}
